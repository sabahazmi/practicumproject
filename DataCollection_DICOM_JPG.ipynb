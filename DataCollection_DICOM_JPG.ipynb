{
 "cells": [
  {
   "cell_type": "code",
   "execution_count": 7,
   "id": "7d2ce66e",
   "metadata": {
    "scrolled": true
   },
   "outputs": [],
   "source": [
    "import matplotlib.image as mpimg\n",
    "import pydicom\n",
    "import numpy as np\n",
    "from PIL import Image\n",
    "import os\n",
    "import uuid\n",
    "def load_images(folder, DESTINATION_PATH):\n",
    "    for filename in os.listdir(folder):\n",
    "        ds = pydicom.dcmread(os.path.join(folder, filename))\n",
    "        x = filename.split(\".\")\n",
    "        x = x[3]\n",
    "        name = uuid.uuid4().hex[:6].upper()+\".jpg\"\n",
    "        print(name)\n",
    "        new_image = ds.pixel_array.astype(float)\n",
    "\n",
    "        scaled_image = (np.maximum(new_image, 0) / new_image.max()) * 255.0\n",
    "\n",
    "        scaled_image = np.uint8(scaled_image)\n",
    "        final_image = Image.fromarray(scaled_image)\n",
    "\n",
    "        final_filepath = os.path.join(DESTINATION_PATH, name)\n",
    "        \n",
    "        final_image.save(final_filepath)\n",
    "        print(final_filepath)\n"
   ]
  },
  {
   "cell_type": "code",
   "execution_count": 8,
   "id": "e2e245a1",
   "metadata": {},
   "outputs": [
    {
     "name": "stdout",
     "output_type": "stream",
     "text": [
      "E95F9C.jpg\n"
     ]
    },
    {
     "ename": "NameError",
     "evalue": "name 'final_image' is not defined",
     "output_type": "error",
     "traceback": [
      "\u001b[1;31m---------------------------------------------------------------------------\u001b[0m",
      "\u001b[1;31mNameError\u001b[0m                                 Traceback (most recent call last)",
      "Input \u001b[1;32mIn [8]\u001b[0m, in \u001b[0;36m<cell line: 1>\u001b[1;34m()\u001b[0m\n\u001b[0;32m      2\u001b[0m folder \u001b[38;5;241m=\u001b[39m \u001b[38;5;124m\"\u001b[39m\u001b[38;5;124mD:/Practicum Project/Dataset/Abnormal/Abnormal \u001b[39m\u001b[38;5;124m\"\u001b[39m\u001b[38;5;241m+\u001b[39m\u001b[38;5;28mstr\u001b[39m(i)\u001b[38;5;241m+\u001b[39m\u001b[38;5;124m\"\u001b[39m\u001b[38;5;124m/Abnormal \u001b[39m\u001b[38;5;124m\"\u001b[39m\u001b[38;5;241m+\u001b[39m\u001b[38;5;28mstr\u001b[39m(i)\u001b[38;5;241m+\u001b[39m\u001b[38;5;124m\"\u001b[39m\u001b[38;5;124m T2W\u001b[39m\u001b[38;5;124m\"\u001b[39m\n\u001b[0;32m      3\u001b[0m DESTINATION_PATH \u001b[38;5;241m=\u001b[39m \u001b[38;5;124mr\u001b[39m\u001b[38;5;124m'\u001b[39m\u001b[38;5;124mD:\u001b[39m\u001b[38;5;124m\\\u001b[39m\u001b[38;5;124mPracticum Project\u001b[39m\u001b[38;5;124m\\\u001b[39m\u001b[38;5;124mDataset\u001b[39m\u001b[38;5;124m\\\u001b[39m\u001b[38;5;124mnew\u001b[39m\u001b[38;5;124m'\u001b[39m\n\u001b[1;32m----> 4\u001b[0m \u001b[43mload_images\u001b[49m\u001b[43m(\u001b[49m\u001b[43mfolder\u001b[49m\u001b[43m,\u001b[49m\u001b[43m \u001b[49m\u001b[43mDESTINATION_PATH\u001b[49m\u001b[43m)\u001b[49m\n",
      "Input \u001b[1;32mIn [7]\u001b[0m, in \u001b[0;36mload_images\u001b[1;34m(folder, DESTINATION_PATH)\u001b[0m\n\u001b[0;32m     14\u001b[0m \u001b[38;5;66;03m#         new_image = ds.pixel_array.astype(float)\u001b[39;00m\n\u001b[0;32m     15\u001b[0m \n\u001b[0;32m     16\u001b[0m \u001b[38;5;66;03m#         scaled_image = (np.maximum(new_image, 0) / new_image.max()) * 255.0\u001b[39;00m\n\u001b[0;32m     17\u001b[0m \n\u001b[0;32m     18\u001b[0m \u001b[38;5;66;03m#         scaled_image = np.uint8(scaled_image)\u001b[39;00m\n\u001b[0;32m     19\u001b[0m \u001b[38;5;66;03m#         final_image = Image.fromarray(scaled_image)\u001b[39;00m\n\u001b[0;32m     21\u001b[0m         final_filepath \u001b[38;5;241m=\u001b[39m os\u001b[38;5;241m.\u001b[39mpath\u001b[38;5;241m.\u001b[39mjoin(DESTINATION_PATH, name)\n\u001b[1;32m---> 23\u001b[0m         \u001b[43mfinal_image\u001b[49m\u001b[38;5;241m.\u001b[39msave(final_filepath)\n\u001b[0;32m     24\u001b[0m         \u001b[38;5;28mprint\u001b[39m(final_filepath)\n",
      "\u001b[1;31mNameError\u001b[0m: name 'final_image' is not defined"
     ]
    }
   ],
   "source": [
    "for i in range(1,4):\n",
    "    folder = \"D:/Practicum Project/Dataset/Abnormal/Abnormal \"+str(i)+\"/Abnormal \"+str(i)+\" T2W\"\n",
    "    DESTINATION_PATH = r'D:\\Practicum Project\\Dataset\\new'\n",
    "    load_images(folder, DESTINATION_PATH)"
   ]
  },
  {
   "cell_type": "code",
   "execution_count": null,
   "id": "8f30a678",
   "metadata": {},
   "outputs": [],
   "source": [
    "D:\\Practicum Project\\Dataset\\Abnormal\\Abnormal 3\\Abnormal 3 T2W"
   ]
  },
  {
   "cell_type": "code",
   "execution_count": null,
   "id": "d4a6d508",
   "metadata": {},
   "outputs": [],
   "source": [
    "for i in range(1,4):\n",
    "    folder = \"Dataset/Normal/Normal \"+str(i)+\"/Normal \"+str(i)+\" T2W\"\n",
    "    load_images(folder, DESTINATION_PATH = 'NewDataset/Normal')"
   ]
  }
 ],
 "metadata": {
  "kernelspec": {
   "display_name": "Python 3 (ipykernel)",
   "language": "python",
   "name": "python3"
  },
  "language_info": {
   "codemirror_mode": {
    "name": "ipython",
    "version": 3
   },
   "file_extension": ".py",
   "mimetype": "text/x-python",
   "name": "python",
   "nbconvert_exporter": "python",
   "pygments_lexer": "ipython3",
   "version": "3.9.12"
  }
 },
 "nbformat": 4,
 "nbformat_minor": 5
}
