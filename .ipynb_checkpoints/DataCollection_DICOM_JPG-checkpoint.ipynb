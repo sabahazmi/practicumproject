{
 "cells": [
  {
   "cell_type": "code",
   "execution_count": 2,
   "id": "7d2ce66e",
   "metadata": {
    "scrolled": true
   },
   "outputs": [],
   "source": [
    "import matplotlib.image as mpimg\n",
    "import pydicom\n",
    "import numpy as np\n",
    "from PIL import Image\n",
    "import os\n",
    "import uuid\n",
    "def load_images(folder, DESTINATION_PATH):\n",
    "    for filename in os.listdir(folder):\n",
    "        ds = pydicom.dcmread(os.path.join(folder, filename))\n",
    "        x = filename.split(\".\")\n",
    "        x = x[3]\n",
    "        name = uuid.uuid4().hex[:6].upper()+\".jpg\"\n",
    "        print(name)\n",
    "        new_image = ds.pixel_array.astype(float)\n",
    "\n",
    "        scaled_image = (np.maximum(new_image, 0) / new_image.max()) * 255.0\n",
    "\n",
    "        scaled_image = np.uint8(scaled_image)\n",
    "        final_image = Image.fromarray(scaled_image)\n",
    "\n",
    "        final_filepath = os.path.join(DESTINATION_PATH, name)\n",
    "        \n",
    "        final_image.save(final_filepath)\n"
   ]
  },
  {
   "cell_type": "code",
   "execution_count": 4,
   "id": "e2e245a1",
   "metadata": {},
   "outputs": [
    {
     "name": "stdout",
     "output_type": "stream",
     "text": [
      "F3F35D.jpg\n",
      "F89839.jpg\n",
      "AF927C.jpg\n",
      "68368A.jpg\n",
      "A6B7DD.jpg\n",
      "F3D8C0.jpg\n",
      "BE4417.jpg\n",
      "BCCF3A.jpg\n",
      "9FF734.jpg\n",
      "922773.jpg\n",
      "0C07DF.jpg\n",
      "3A335C.jpg\n",
      "C1D9A5.jpg\n",
      "0654D0.jpg\n",
      "5928BE.jpg\n",
      "BA770C.jpg\n",
      "C751F1.jpg\n",
      "8DA7EA.jpg\n",
      "3E551C.jpg\n",
      "52CF0E.jpg\n",
      "FDF77C.jpg\n",
      "D1251A.jpg\n",
      "B25E9B.jpg\n",
      "1C8725.jpg\n",
      "386F15.jpg\n",
      "ECE831.jpg\n",
      "184503.jpg\n",
      "A6CE85.jpg\n",
      "3A606D.jpg\n",
      "DA77F4.jpg\n",
      "33B2DB.jpg\n",
      "A189E2.jpg\n",
      "AA98D7.jpg\n",
      "2E1043.jpg\n",
      "517178.jpg\n",
      "03BA24.jpg\n",
      "AB4E58.jpg\n",
      "BEE459.jpg\n",
      "C0044E.jpg\n",
      "01F8E0.jpg\n",
      "511666.jpg\n",
      "3E64C8.jpg\n",
      "E42AFE.jpg\n",
      "451A5D.jpg\n",
      "9E20F5.jpg\n",
      "253B73.jpg\n",
      "5D8735.jpg\n",
      "FBE331.jpg\n",
      "065D67.jpg\n",
      "FA43DB.jpg\n",
      "B8AE37.jpg\n",
      "FFA373.jpg\n",
      "F21A30.jpg\n",
      "D34305.jpg\n",
      "2344B9.jpg\n",
      "8989BA.jpg\n",
      "09282B.jpg\n",
      "313B31.jpg\n",
      "25A71E.jpg\n",
      "92FD92.jpg\n",
      "B5F32D.jpg\n",
      "726AD6.jpg\n",
      "2EBD47.jpg\n",
      "593EDD.jpg\n",
      "B0D07D.jpg\n",
      "731396.jpg\n",
      "625BF2.jpg\n",
      "5EE88F.jpg\n",
      "8D978E.jpg\n",
      "219528.jpg\n",
      "B599DA.jpg\n",
      "F8998F.jpg\n"
     ]
    }
   ],
   "source": [
    "for i in range(1,4):\n",
    "    folder = \"D:/Practicum Project/Dataset/Abnormal/Abnormal \"+str(i)+\"/Abnormal \"+str(i)+\" T2W\"\n",
    "    DESTINATION_PATH = r'D:\\Practicum Project\\Dataset\\new'\n",
    "    load_images(folder, DESTINATION_PATH)"
   ]
  },
  {
   "cell_type": "code",
   "execution_count": null,
   "id": "fd68193f",
   "metadata": {},
   "outputs": [],
   "source": [
    "D:\\Practicum Project\\Dataset\\Abnormal\\Abnormal 3\\Abnormal 3 T2W"
   ]
  },
  {
   "cell_type": "code",
   "execution_count": null,
   "id": "d4a6d508",
   "metadata": {},
   "outputs": [],
   "source": [
    "for i in range(1,4):\n",
    "    folder = \"Dataset/Normal/Normal \"+str(i)+\"/Normal \"+str(i)+\" T2W\"\n",
    "    load_images(folder, DESTINATION_PATH = 'NewDataset/Normal')"
   ]
  }
 ],
 "metadata": {
  "kernelspec": {
   "display_name": "Python 3 (ipykernel)",
   "language": "python",
   "name": "python3"
  },
  "language_info": {
   "codemirror_mode": {
    "name": "ipython",
    "version": 3
   },
   "file_extension": ".py",
   "mimetype": "text/x-python",
   "name": "python",
   "nbconvert_exporter": "python",
   "pygments_lexer": "ipython3",
   "version": "3.9.12"
  }
 },
 "nbformat": 4,
 "nbformat_minor": 5
}
