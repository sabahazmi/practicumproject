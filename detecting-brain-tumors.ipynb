{
 "cells": [
  {
   "cell_type": "markdown",
   "id": "5201ba90",
   "metadata": {
    "papermill": {
     "duration": 0.013945,
     "end_time": "2022-06-18T03:32:14.832663",
     "exception": false,
     "start_time": "2022-06-18T03:32:14.818718",
     "status": "completed"
    },
    "tags": []
   },
   "source": [
    "## 1. Importing the libaries"
   ]
  },
  {
   "cell_type": "code",
   "execution_count": null,
   "id": "ad08faeb",
   "metadata": {
    "execution": {
     "iopub.execute_input": "2022-06-18T03:32:14.863728Z",
     "iopub.status.busy": "2022-06-18T03:32:14.863275Z",
     "iopub.status.idle": "2022-06-18T03:32:22.098889Z",
     "shell.execute_reply": "2022-06-18T03:32:22.098156Z"
    },
    "papermill": {
     "duration": 7.254042,
     "end_time": "2022-06-18T03:32:22.101114",
     "exception": false,
     "start_time": "2022-06-18T03:32:14.847072",
     "status": "completed"
    },
    "tags": []
   },
   "outputs": [],
   "source": [
    "#importing libaries\n",
    "import numpy as np \n",
    "import pandas as pd\n",
    "import random as rd\n",
    "import os\n",
    "\n",
    "import matplotlib.pyplot as plt\n",
    "%matplotlib inline\n",
    "import seaborn as sns\n",
    "\n",
    "from PIL import Image\n",
    "\n",
    "from sklearn.model_selection import train_test_split\n",
    "from sklearn.metrics import mean_absolute_error, mean_squared_error, r2_score, confusion_matrix, \\\n",
    "                            classification_report, accuracy_score, precision_score, f1_score, recall_score\n",
    "\n",
    "import tensorflow as tf\n",
    "from tensorflow import keras\n",
    "from tensorflow.keras import layers\n",
    "from tensorflow.keras.layers.experimental import preprocessing\n",
    "from keras.metrics import accuracy\n",
    "from keras.applications.vgg16 import VGG16\n",
    "from tensorflow.keras.applications import VGG19\n",
    "\n",
    "#setting seed for reproducability\n",
    "from numpy.random import seed\n",
    "seed(25)\n",
    "tf.random.set_seed(50)\n",
    "\n",
    "import warnings\n",
    "warnings.filterwarnings('ignore')"
   ]
  },
  {
   "cell_type": "markdown",
   "id": "8464b484",
   "metadata": {
    "papermill": {
     "duration": 0.008875,
     "end_time": "2022-06-18T03:32:22.119187",
     "exception": false,
     "start_time": "2022-06-18T03:32:22.110312",
     "status": "completed"
    },
    "tags": []
   },
   "source": [
    "## 2. Importing the images"
   ]
  },
  {
   "cell_type": "code",
   "execution_count": null,
   "id": "cdd58252",
   "metadata": {
    "execution": {
     "iopub.execute_input": "2022-06-18T03:32:22.139558Z",
     "iopub.status.busy": "2022-06-18T03:32:22.138502Z",
     "iopub.status.idle": "2022-06-18T03:32:24.052444Z",
     "shell.execute_reply": "2022-06-18T03:32:24.051517Z"
    },
    "papermill": {
     "duration": 1.926779,
     "end_time": "2022-06-18T03:32:24.054905",
     "exception": false,
     "start_time": "2022-06-18T03:32:22.128126",
     "status": "completed"
    },
    "scrolled": true,
    "tags": []
   },
   "outputs": [],
   "source": [
    "data = [] #creating a list for images\n",
    "paths = [] #creating a list for paths\n",
    "labels = [] #creating a list to put our 0 or 1 labels\n",
    "\n",
    "#staring with the images that have tumors\n",
    "for r, d, f in os.walk(r'Dataset/Abnormal/'):\n",
    "    for file in f:\n",
    "        if '.jpg' in file:\n",
    "            paths.append(os.path.join(r, file))\n",
    "\n",
    "for path in paths:\n",
    "    img = Image.open(path)\n",
    "    img = img.resize((128,128))\n",
    "    img = np.array(img)\n",
    "    if(img.shape == (128,128,3)):\n",
    "        data.append(np.array(img))\n",
    "        labels.append(1)\n",
    "\n",
    "#now working with the images with no tumors        \n",
    "paths = []\n",
    "for r, d, f in os.walk(r\"Dataset/Normal/\"):\n",
    "    for file in f:\n",
    "        if '.jpg' in file:\n",
    "            paths.append(os.path.join(r, file))\n",
    "\n",
    "for path in paths:\n",
    "    img = Image.open(path)\n",
    "    img = img.resize((128,128))\n",
    "    img = np.array(img)\n",
    "    if(img.shape == (128,128,3)):\n",
    "        data.append(np.array(img))\n",
    "        labels.append(0)\n",
    "data = np.array(data)\n",
    "data.shape\n",
    "\n",
    "labels = np.array(labels)\n",
    "labels = labels.reshape(2884,1)\n",
    "\n",
    "print('Data shape is:', data.shape)\n",
    "print('Labels shape is:', labels.shape)"
   ]
  },
  {
   "cell_type": "markdown",
   "id": "ab8e91ad",
   "metadata": {
    "papermill": {
     "duration": 0.014876,
     "end_time": "2022-06-18T03:32:24.087656",
     "exception": false,
     "start_time": "2022-06-18T03:32:24.072780",
     "status": "completed"
    },
    "tags": []
   },
   "source": [
    "# 3. Processing the images"
   ]
  },
  {
   "cell_type": "markdown",
   "id": "1050cd07",
   "metadata": {
    "papermill": {
     "duration": 0.015364,
     "end_time": "2022-06-18T03:32:24.161713",
     "exception": false,
     "start_time": "2022-06-18T03:32:24.146349",
     "status": "completed"
    },
    "tags": []
   },
   "source": [
    "## 3.1 Changing pixel values"
   ]
  },
  {
   "cell_type": "markdown",
   "id": "9464807c",
   "metadata": {
    "papermill": {
     "duration": 0.014927,
     "end_time": "2022-06-18T03:32:24.191904",
     "exception": false,
     "start_time": "2022-06-18T03:32:24.176977",
     "status": "completed"
    },
    "tags": []
   },
   "source": [
    "Each pixel has a value between 255 and 0. We will reduce this down to 1 and 0 in order to help the neural network converge quicker."
   ]
  },
  {
   "cell_type": "code",
   "execution_count": null,
   "id": "74361b01",
   "metadata": {
    "execution": {
     "iopub.execute_input": "2022-06-18T03:32:24.224299Z",
     "iopub.status.busy": "2022-06-18T03:32:24.223837Z",
     "iopub.status.idle": "2022-06-18T03:32:24.239641Z",
     "shell.execute_reply": "2022-06-18T03:32:24.238675Z"
    },
    "papermill": {
     "duration": 0.034373,
     "end_time": "2022-06-18T03:32:24.241725",
     "exception": false,
     "start_time": "2022-06-18T03:32:24.207352",
     "status": "completed"
    },
    "tags": []
   },
   "outputs": [],
   "source": [
    "#getting the max of the array\n",
    "print(np.max(data))\n",
    "#getting the min of the array\n",
    "print(np.min(data))\n",
    "\n",
    "#reducing the data to between 1 and 0\n",
    "data = data / 255.00\n",
    "#getting the max of the array\n",
    "print(np.max(data))\n",
    "#getting the min of the array\n",
    "print(np.min(data))"
   ]
  },
  {
   "cell_type": "markdown",
   "id": "890e12ef",
   "metadata": {
    "papermill": {
     "duration": 0.009384,
     "end_time": "2022-06-18T03:32:24.315774",
     "exception": false,
     "start_time": "2022-06-18T03:32:24.306390",
     "status": "completed"
    },
    "tags": []
   },
   "source": [
    "## 3.2 Visualizing the images"
   ]
  },
  {
   "cell_type": "code",
   "execution_count": null,
   "id": "f028a3b6",
   "metadata": {
    "execution": {
     "iopub.execute_input": "2022-06-18T03:32:24.336346Z",
     "iopub.status.busy": "2022-06-18T03:32:24.335662Z",
     "iopub.status.idle": "2022-06-18T03:32:25.445695Z",
     "shell.execute_reply": "2022-06-18T03:32:25.444783Z"
    },
    "papermill": {
     "duration": 1.12259,
     "end_time": "2022-06-18T03:32:25.447743",
     "exception": false,
     "start_time": "2022-06-18T03:32:24.325153",
     "status": "completed"
    },
    "scrolled": false,
    "tags": []
   },
   "outputs": [],
   "source": [
    "for i in range(5):\n",
    "    fig = plt.figure(figsize=(40,40))\n",
    "    plt.subplot(5,5,i+1)\n",
    "    image = plt.imshow(data[i])\n",
    "    plt.show(image)"
   ]
  },
  {
   "cell_type": "markdown",
   "id": "32452ba7",
   "metadata": {
    "papermill": {
     "duration": 0.009384,
     "end_time": "2022-06-18T03:32:24.315774",
     "exception": false,
     "start_time": "2022-06-18T03:32:24.306390",
     "status": "completed"
    },
    "tags": []
   },
   "source": [
    "## 3.2 Graph Save Function"
   ]
  },
  {
   "cell_type": "code",
   "execution_count": null,
   "id": "e3dcddfa",
   "metadata": {},
   "outputs": [],
   "source": [
    "def savePlot(name):\n",
    "    name = name+'.svg'\n",
    "    plt.savefig(name, format='svg', dpi=1200)"
   ]
  },
  {
   "cell_type": "markdown",
   "id": "f7acc33b",
   "metadata": {
    "papermill": {
     "duration": 0.01816,
     "end_time": "2022-06-18T03:32:25.484537",
     "exception": false,
     "start_time": "2022-06-18T03:32:25.466377",
     "status": "completed"
    },
    "tags": []
   },
   "source": [
    "# 4 Model"
   ]
  },
  {
   "cell_type": "markdown",
   "id": "6c2f4efd",
   "metadata": {
    "papermill": {
     "duration": 0.018238,
     "end_time": "2022-06-18T03:32:25.521201",
     "exception": false,
     "start_time": "2022-06-18T03:32:25.502963",
     "status": "completed"
    },
    "tags": []
   },
   "source": [
    "## 4.1 Creating training and test sets"
   ]
  },
  {
   "cell_type": "markdown",
   "id": "209d0ce5",
   "metadata": {
    "papermill": {
     "duration": 0.011828,
     "end_time": "2022-06-18T03:32:25.545192",
     "exception": false,
     "start_time": "2022-06-18T03:32:25.533364",
     "status": "completed"
    },
    "tags": []
   },
   "source": [
    "Before we create our model we will split up the data into training sets and test sets with 70% going to training and 30% going to testing."
   ]
  },
  {
   "cell_type": "code",
   "execution_count": null,
   "id": "143bb54d",
   "metadata": {
    "execution": {
     "iopub.execute_input": "2022-06-18T03:32:25.628396Z",
     "iopub.status.busy": "2022-06-18T03:32:25.627464Z",
     "iopub.status.idle": "2022-06-18T03:32:25.633898Z",
     "shell.execute_reply": "2022-06-18T03:32:25.632968Z"
    },
    "papermill": {
     "duration": 0.028476,
     "end_time": "2022-06-18T03:32:25.636022",
     "exception": false,
     "start_time": "2022-06-18T03:32:25.607546",
     "status": "completed"
    },
    "tags": []
   },
   "outputs": [],
   "source": [
    "x_train,x_test,y_train,y_test = train_test_split(data, labels, test_size=0.3, shuffle=True, random_state=7)\n",
    "\n",
    "print(\"shape of our training data:\",x_train.shape)\n",
    "print(\"shape of our training labels:\",y_train.shape)\n",
    "print(\"shape of our test data:\",x_test.shape)\n",
    "print(\"shape of our test labels:\",y_test.shape)"
   ]
  },
  {
   "cell_type": "markdown",
   "id": "febee0e1",
   "metadata": {
    "papermill": {
     "duration": 0.018473,
     "end_time": "2022-06-18T03:32:25.673572",
     "exception": false,
     "start_time": "2022-06-18T03:32:25.655099",
     "status": "completed"
    },
    "tags": []
   },
   "source": [
    "## 4.2 Creating our baseline model"
   ]
  },
  {
   "cell_type": "code",
   "execution_count": null,
   "id": "7538b834",
   "metadata": {
    "execution": {
     "iopub.execute_input": "2022-06-18T03:32:25.750109Z",
     "iopub.status.busy": "2022-06-18T03:32:25.749512Z",
     "iopub.status.idle": "2022-06-18T03:32:25.939320Z",
     "shell.execute_reply": "2022-06-18T03:32:25.937219Z"
    },
    "papermill": {
     "duration": 0.212055,
     "end_time": "2022-06-18T03:32:25.941690",
     "exception": false,
     "start_time": "2022-06-18T03:32:25.729635",
     "status": "completed"
    },
    "scrolled": true,
    "tags": []
   },
   "outputs": [],
   "source": [
    "model = keras.Sequential([\n",
    "    \n",
    "    layers.Conv2D(filters=32, kernel_size=(5,5), activation=\"relu\", padding='same', input_shape=[128, 128, 3]),\n",
    "    layers.MaxPool2D(),\n",
    "    \n",
    "    layers.Conv2D(filters=64, kernel_size=(3,3), activation=\"relu\", padding='same'),\n",
    "    layers.MaxPool2D(),\n",
    "    \n",
    "    layers.Conv2D(filters=128, kernel_size=(3,3), activation=\"relu\", padding='same'),\n",
    "    layers.MaxPool2D(),\n",
    "    \n",
    "    layers.Conv2D(filters=128, kernel_size=(3,3), activation=\"relu\", padding='same'),\n",
    "    layers.MaxPool2D(),\n",
    "    \n",
    "    layers.Flatten(),\n",
    "    layers.Dropout(.30),\n",
    "    layers.Dense(units=256, activation=\"relu\"),\n",
    "    layers.Dense(units=1, activation=\"sigmoid\"),\n",
    "])\n",
    "\n",
    "model.summary()\n",
    "model.name\n",
    "\n",
    "model.compile(\n",
    "    optimizer=tf.keras.optimizers.Adam(epsilon=0.01),\n",
    "    loss='binary_crossentropy',\n",
    "    metrics=['accuracy']\n",
    ")\n",
    "\n",
    "#including early stopping to prevent overfitting\n",
    "early_stopping = keras.callbacks.EarlyStopping(\n",
    "    patience=10,\n",
    "    min_delta=0.001,\n",
    "    restore_best_weights=True,\n",
    ")\n",
    "\n",
    "print(\"Fit model on training data\")\n",
    "history = model.fit(\n",
    "    x = x_train,\n",
    "    y = y_train,\n",
    "    validation_data= (x_test,y_test),\n",
    "    batch_size = 64,\n",
    "    epochs=200,\n",
    "    callbacks=[early_stopping],\n",
    "    verbose=(2),\n",
    ")"
   ]
  },
  {
   "cell_type": "code",
   "execution_count": null,
   "id": "3244c21e",
   "metadata": {
    "execution": {
     "iopub.execute_input": "2022-06-18T03:35:24.740841Z",
     "iopub.status.busy": "2022-06-18T03:35:24.739784Z",
     "iopub.status.idle": "2022-06-18T03:35:25.082845Z",
     "shell.execute_reply": "2022-06-18T03:35:25.081889Z"
    },
    "papermill": {
     "duration": 0.37209,
     "end_time": "2022-06-18T03:35:25.085180",
     "exception": false,
     "start_time": "2022-06-18T03:35:24.713090",
     "status": "completed"
    },
    "tags": []
   },
   "outputs": [],
   "source": [
    "history_frame = pd.DataFrame(history.history)\n",
    "history_frame.loc[:, ['loss','val_loss']].plot()\n",
    "savePlot('baseline_loss_valloss')\n",
    "history_frame.loc[:, ['accuracy','val_accuracy']].plot();\n",
    "savePlot('baseline_acc_valacc')"
   ]
  },
  {
   "cell_type": "code",
   "execution_count": null,
   "id": "8a10b685",
   "metadata": {
    "execution": {
     "iopub.execute_input": "2022-06-18T03:35:25.172211Z",
     "iopub.status.busy": "2022-06-18T03:35:25.171540Z",
     "iopub.status.idle": "2022-06-18T03:35:25.547830Z",
     "shell.execute_reply": "2022-06-18T03:35:25.546626Z"
    },
    "papermill": {
     "duration": 0.422663,
     "end_time": "2022-06-18T03:35:25.550217",
     "exception": false,
     "start_time": "2022-06-18T03:35:25.127554",
     "status": "completed"
    },
    "tags": []
   },
   "outputs": [],
   "source": [
    "pred = model.predict(x_test)\n",
    "\n",
    "for i in range(len(pred)):\n",
    "    if pred[i] > 0.5:\n",
    "        pred[i] = 1\n",
    "    else:\n",
    "        pred[i] = 0\n",
    "     \n",
    "pred = pred.astype(int)"
   ]
  },
  {
   "cell_type": "code",
   "execution_count": null,
   "id": "5f4d39c6",
   "metadata": {
    "execution": {
     "iopub.execute_input": "2022-06-18T03:35:25.635562Z",
     "iopub.status.busy": "2022-06-18T03:35:25.634772Z",
     "iopub.status.idle": "2022-06-18T03:35:25.644166Z",
     "shell.execute_reply": "2022-06-18T03:35:25.643623Z"
    },
    "papermill": {
     "duration": 0.053878,
     "end_time": "2022-06-18T03:35:25.645849",
     "exception": false,
     "start_time": "2022-06-18T03:35:25.591971",
     "status": "completed"
    },
    "tags": []
   },
   "outputs": [],
   "source": [
    "#creating a classification report\n",
    "print(classification_report(y_test, pred))"
   ]
  },
  {
   "cell_type": "markdown",
   "id": "eaeaf6e4",
   "metadata": {
    "papermill": {
     "duration": 0.0417,
     "end_time": "2022-06-18T03:35:25.729461",
     "exception": false,
     "start_time": "2022-06-18T03:35:25.687761",
     "status": "completed"
    },
    "tags": []
   },
   "source": [
    "## 4.3 Adding data agumentation"
   ]
  },
  {
   "cell_type": "code",
   "execution_count": null,
   "id": "a0eb647f",
   "metadata": {
    "execution": {
     "iopub.execute_input": "2022-06-18T03:35:25.900120Z",
     "iopub.status.busy": "2022-06-18T03:35:25.899617Z",
     "iopub.status.idle": "2022-06-18T03:35:25.927376Z",
     "shell.execute_reply": "2022-06-18T03:35:25.926794Z"
    },
    "papermill": {
     "duration": 0.073059,
     "end_time": "2022-06-18T03:35:25.929571",
     "exception": false,
     "start_time": "2022-06-18T03:35:25.856512",
     "status": "completed"
    },
    "tags": []
   },
   "outputs": [],
   "source": [
    "model = keras.Sequential([\n",
    "    \n",
    "    preprocessing.RandomFlip('horizontal'), # flip left-to-right\n",
    "    \n",
    "    layers.Conv2D(filters=32, kernel_size=(5,5), activation=\"relu\", padding='same', input_shape=[128, 128, 3]),\n",
    "    layers.MaxPool2D(),\n",
    "    \n",
    "    layers.Conv2D(filters=64, kernel_size=(3,3), activation=\"relu\", padding='same'),\n",
    "    layers.MaxPool2D(),\n",
    "    \n",
    "    layers.Conv2D(filters=128, kernel_size=(3,3), activation=\"relu\", padding='same'),\n",
    "    layers.MaxPool2D(),\n",
    "    \n",
    "    layers.Conv2D(filters=128, kernel_size=(3,3), activation=\"relu\", padding='same'),\n",
    "    layers.MaxPool2D(),\n",
    "    \n",
    "    layers.Flatten(),\n",
    "    layers.Dropout(.25),\n",
    "    layers.Dense(units=256, activation=\"relu\"),\n",
    "    layers.Dense(units=1, activation=\"sigmoid\"),\n",
    "])\n",
    "\n",
    "model.compile(\n",
    "    optimizer=tf.keras.optimizers.Adam(epsilon=0.01),\n",
    "    loss='binary_crossentropy',\n",
    "    metrics=['accuracy']\n",
    ")\n",
    "\n",
    "#including early stopping to revent overfitting\n",
    "early_stopping = keras.callbacks.EarlyStopping(\n",
    "    patience=30,\n",
    "    min_delta=0.001,\n",
    "    restore_best_weights=True,\n",
    ")\n",
    "\n",
    "print(\"Fit model on training data\")\n",
    "history = model.fit(\n",
    "    x = x_train,\n",
    "    y = y_train,\n",
    "    validation_data= (x_test,y_test),\n",
    "    batch_size = 64,\n",
    "    epochs=200,\n",
    "    callbacks=[early_stopping],\n",
    "    verbose=(2),\n",
    ")"
   ]
  },
  {
   "cell_type": "code",
   "execution_count": null,
   "id": "abc0c83c",
   "metadata": {
    "execution": {
     "iopub.execute_input": "2022-06-18T03:39:30.307741Z",
     "iopub.status.busy": "2022-06-18T03:39:30.307295Z",
     "iopub.status.idle": "2022-06-18T03:39:49.488732Z",
     "shell.execute_reply": "2022-06-18T03:39:49.487892Z"
    },
    "papermill": {
     "duration": 19.256389,
     "end_time": "2022-06-18T03:39:49.490424",
     "exception": false,
     "start_time": "2022-06-18T03:39:30.234035",
     "status": "completed"
    },
    "tags": []
   },
   "outputs": [],
   "source": [
    "history_frame = pd.DataFrame(history.history)\n",
    "history_frame.loc[:, ['loss','val_loss']].plot()\n",
    "savePlot('augmented_loss_valloss')\n",
    "history_frame.loc[:, ['accuracy','val_accuracy']].plot();\n",
    "savePlot('augmented_acc_valacc')"
   ]
  },
  {
   "cell_type": "code",
   "execution_count": null,
   "id": "fdf9de43",
   "metadata": {
    "execution": {
     "iopub.execute_input": "2022-06-18T03:39:49.582400Z",
     "iopub.status.busy": "2022-06-18T03:39:49.581983Z",
     "iopub.status.idle": "2022-06-18T03:39:49.900800Z",
     "shell.execute_reply": "2022-06-18T03:39:49.899940Z"
    },
    "papermill": {
     "duration": 0.366882,
     "end_time": "2022-06-18T03:39:49.902690",
     "exception": false,
     "start_time": "2022-06-18T03:39:49.535808",
     "status": "completed"
    },
    "tags": []
   },
   "outputs": [],
   "source": [
    "pred = model.predict(x_test)\n",
    "\n",
    "for i in range(len(pred)):\n",
    "    if pred[i] > 0.5:\n",
    "        pred[i] = 1\n",
    "    else:\n",
    "        pred[i] = 0\n",
    "\n",
    "pred = pred.astype(int)"
   ]
  },
  {
   "cell_type": "code",
   "execution_count": null,
   "id": "7792b683",
   "metadata": {
    "execution": {
     "iopub.execute_input": "2022-06-18T03:39:49.995120Z",
     "iopub.status.busy": "2022-06-18T03:39:49.994141Z",
     "iopub.status.idle": "2022-06-18T03:39:50.004307Z",
     "shell.execute_reply": "2022-06-18T03:39:50.003634Z"
    },
    "papermill": {
     "duration": 0.057785,
     "end_time": "2022-06-18T03:39:50.005854",
     "exception": false,
     "start_time": "2022-06-18T03:39:49.948069",
     "status": "completed"
    },
    "scrolled": true,
    "tags": []
   },
   "outputs": [],
   "source": [
    "#creating a classification report\n",
    "print(classification_report(y_test, pred))"
   ]
  },
  {
   "cell_type": "markdown",
   "id": "99177303",
   "metadata": {
    "papermill": {
     "duration": 0.044957,
     "end_time": "2022-06-18T03:39:50.096243",
     "exception": false,
     "start_time": "2022-06-18T03:39:50.051286",
     "status": "completed"
    },
    "tags": []
   },
   "source": [
    "## 4.4 Adding a pretrained model"
   ]
  },
  {
   "cell_type": "code",
   "execution_count": null,
   "id": "65b75258",
   "metadata": {
    "execution": {
     "iopub.execute_input": "2022-06-18T03:39:50.279619Z",
     "iopub.status.busy": "2022-06-18T03:39:50.279102Z",
     "iopub.status.idle": "2022-06-18T03:39:52.077213Z",
     "shell.execute_reply": "2022-06-18T03:39:52.076321Z"
    },
    "papermill": {
     "duration": 1.84719,
     "end_time": "2022-06-18T03:39:52.079685",
     "exception": false,
     "start_time": "2022-06-18T03:39:50.232495",
     "status": "completed"
    },
    "tags": []
   },
   "outputs": [],
   "source": [
    "# load base model\n",
    "vgg16_weight_path = 'vgg16_weights_tf_dim_ordering_tf_kernels_notop.h5'\n",
    "base_model = VGG16(\n",
    "    weights=vgg16_weight_path,\n",
    "    include_top=False, \n",
    "    input_shape=(128,128,3)\n",
    ")"
   ]
  },
  {
   "cell_type": "code",
   "execution_count": null,
   "id": "7d62240b",
   "metadata": {
    "execution": {
     "iopub.execute_input": "2022-06-18T03:39:52.380104Z",
     "iopub.status.busy": "2022-06-18T03:39:52.379160Z",
     "iopub.status.idle": "2022-06-18T03:39:52.393654Z",
     "shell.execute_reply": "2022-06-18T03:39:52.392844Z"
    },
    "papermill": {
     "duration": 0.091432,
     "end_time": "2022-06-18T03:39:52.395749",
     "exception": false,
     "start_time": "2022-06-18T03:39:52.304317",
     "status": "completed"
    },
    "tags": []
   },
   "outputs": [],
   "source": [
    "model = keras.Sequential([\n",
    "    \n",
    "    preprocessing.RandomFlip('horizontal'), # flip left-to-right\n",
    "    \n",
    "    base_model, #vgg16\n",
    "    \n",
    "    layers.Flatten(),\n",
    "    layers.Dropout(.25),\n",
    "    layers.Dense(units=256, activation=\"relu\"),\n",
    "    layers.Dense(units=1, activation=\"sigmoid\"),\n",
    "])\n",
    "\n",
    "model.compile(\n",
    "    optimizer=tf.keras.optimizers.Adam(epsilon=0.01),\n",
    "    loss='binary_crossentropy',\n",
    "    metrics=['accuracy']\n",
    ")\n",
    "\n",
    "#including early stopping to prevent overfitting\n",
    "early_stopping = keras.callbacks.EarlyStopping(\n",
    "    patience=40,\n",
    "    min_delta=0.001,\n",
    "    restore_best_weights=True,\n",
    ")\n",
    "\n",
    "print(\"Fit model on training data\")\n",
    "history = model.fit(\n",
    "    x = x_train,\n",
    "    y = y_train,\n",
    "    validation_data= (x_test,y_test),\n",
    "    batch_size = 64,\n",
    "    epochs=200,\n",
    "    callbacks=[early_stopping],\n",
    "    verbose=(2),\n",
    ")"
   ]
  },
  {
   "cell_type": "code",
   "execution_count": null,
   "id": "b971b4f3",
   "metadata": {
    "execution": {
     "iopub.execute_input": "2022-06-18T04:11:01.231123Z",
     "iopub.status.busy": "2022-06-18T04:11:01.230733Z",
     "iopub.status.idle": "2022-06-18T04:11:16.473435Z",
     "shell.execute_reply": "2022-06-18T04:11:16.472440Z"
    },
    "papermill": {
     "duration": 15.334614,
     "end_time": "2022-06-18T04:11:16.475569",
     "exception": false,
     "start_time": "2022-06-18T04:11:01.140955",
     "status": "completed"
    },
    "tags": []
   },
   "outputs": [],
   "source": [
    "history_frame = pd.DataFrame(history.history)\n",
    "history_frame.loc[:, ['loss','val_loss']].plot()\n",
    "savePlot('vgg16_loss_valloss')\n",
    "history_frame.loc[:, ['accuracy','val_accuracy']].plot();\n",
    "savePlot('vgg16_acc_valacc')"
   ]
  },
  {
   "cell_type": "code",
   "execution_count": null,
   "id": "b9c365d8",
   "metadata": {
    "execution": {
     "iopub.execute_input": "2022-06-18T04:11:16.653439Z",
     "iopub.status.busy": "2022-06-18T04:11:16.652825Z",
     "iopub.status.idle": "2022-06-18T04:11:19.739669Z",
     "shell.execute_reply": "2022-06-18T04:11:19.738981Z"
    },
    "papermill": {
     "duration": 3.178483,
     "end_time": "2022-06-18T04:11:19.741894",
     "exception": false,
     "start_time": "2022-06-18T04:11:16.563411",
     "status": "completed"
    },
    "tags": []
   },
   "outputs": [],
   "source": [
    "pred = model.predict(x_test)\n",
    "\n",
    "for i in range(len(pred)):\n",
    "    if pred[i] > 0.5:\n",
    "        pred[i] = 1\n",
    "    else:\n",
    "        pred[i] = 0\n",
    "\n",
    "pred = pred.astype(int)"
   ]
  },
  {
   "cell_type": "code",
   "execution_count": null,
   "id": "374d43db",
   "metadata": {
    "execution": {
     "iopub.execute_input": "2022-06-18T04:11:19.918428Z",
     "iopub.status.busy": "2022-06-18T04:11:19.917687Z",
     "iopub.status.idle": "2022-06-18T04:11:19.927370Z",
     "shell.execute_reply": "2022-06-18T04:11:19.926858Z"
    },
    "papermill": {
     "duration": 0.100198,
     "end_time": "2022-06-18T04:11:19.929345",
     "exception": false,
     "start_time": "2022-06-18T04:11:19.829147",
     "status": "completed"
    },
    "scrolled": true,
    "tags": []
   },
   "outputs": [],
   "source": [
    "#creating a classification report\n",
    "print(classification_report(y_test, pred))"
   ]
  },
  {
   "cell_type": "code",
   "execution_count": null,
   "id": "91c29530",
   "metadata": {},
   "outputs": [],
   "source": [
    "model.save(\"model_VGG16.h5\", save_format='h5')"
   ]
  },
  {
   "cell_type": "markdown",
   "id": "4f8c8303",
   "metadata": {
    "papermill": {
     "duration": 0.087298,
     "end_time": "2022-06-18T04:11:20.105029",
     "exception": false,
     "start_time": "2022-06-18T04:11:20.017731",
     "status": "completed"
    },
    "tags": []
   },
   "source": [
    "# 5. Results"
   ]
  },
  {
   "cell_type": "markdown",
   "id": "c95501cf",
   "metadata": {
    "papermill": {
     "duration": 0.086301,
     "end_time": "2022-06-18T04:11:20.278715",
     "exception": false,
     "start_time": "2022-06-18T04:11:20.192414",
     "status": "completed"
    },
    "tags": []
   },
   "source": [
    "## 5.1 Results table"
   ]
  },
  {
   "cell_type": "markdown",
   "id": "947f9fc6",
   "metadata": {
    "papermill": {
     "duration": 0.08787,
     "end_time": "2022-06-18T04:11:20.453962",
     "exception": false,
     "start_time": "2022-06-18T04:11:20.366092",
     "status": "completed"
    },
    "tags": []
   },
   "source": [
    "The idea we set out with was to start with a baseline model and add to that model and improve the accuracy with each step. Here is the results of each step:\n",
    "\n",
    "Model                      |     Accuracy\n",
    "---------------------------|---------------\n",
    "Baseline                   |     97.60%\n",
    "Adding Data Agumentation   |     98.50%\n",
    "Adding Pretrained Model    |     99%"
   ]
  }
 ],
 "metadata": {
  "kernelspec": {
   "display_name": "Python 3 (ipykernel)",
   "language": "python",
   "name": "python3"
  },
  "language_info": {
   "codemirror_mode": {
    "name": "ipython",
    "version": 3
   },
   "file_extension": ".py",
   "mimetype": "text/x-python",
   "name": "python",
   "nbconvert_exporter": "python",
   "pygments_lexer": "ipython3",
   "version": "3.9.12"
  },
  "papermill": {
   "default_parameters": {},
   "duration": 2360.985934,
   "end_time": "2022-06-18T04:11:24.861327",
   "environment_variables": {},
   "exception": null,
   "input_path": "__notebook__.ipynb",
   "output_path": "__notebook__.ipynb",
   "parameters": {},
   "start_time": "2022-06-18T03:32:03.875393",
   "version": "2.3.4"
  }
 },
 "nbformat": 4,
 "nbformat_minor": 5
}
